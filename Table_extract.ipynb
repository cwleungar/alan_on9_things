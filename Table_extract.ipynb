{
 "cells": [
  {
   "cell_type": "code",
   "execution_count": 7,
   "metadata": {},
   "outputs": [],
   "source": [
    "path=\"./04.pdf\""
   ]
  },
  {
   "cell_type": "code",
   "execution_count": 18,
   "metadata": {},
   "outputs": [
    {
     "name": "stdout",
     "output_type": "stream",
     "text": [
      "3\n"
     ]
    }
   ],
   "source": [
    "import tabula.io as tabula\n",
    "import pandas as pd\n",
    "import numpy as np\n",
    "import argparse\n",
    "# Read pdf into list of DataFrame\n",
    "\n",
    "\n",
    "\n",
    "def extract_table(file_path):\n",
    "    df = tabula.read_pdf(file_path, pages='all',multiple_tables=True,area=(50, 50, 590, 840))\n",
    "    return df\n",
    "\n",
    "\n",
    "\n",
    "dfs=extract_table(path)\n",
    "print(len(dfs))\n",
    "for i in range(len(dfs)):\n",
    "    dfs[i].to_csv('./table'+str(i)+'.csv',index=False,encoding='utf_8_sig')\n"
   ]
  }
 ],
 "metadata": {
  "kernelspec": {
   "display_name": "Python 3",
   "language": "python",
   "name": "python3"
  },
  "language_info": {
   "codemirror_mode": {
    "name": "ipython",
    "version": 3
   },
   "file_extension": ".py",
   "mimetype": "text/x-python",
   "name": "python",
   "nbconvert_exporter": "python",
   "pygments_lexer": "ipython3",
   "version": "3.9.0"
  },
  "orig_nbformat": 4
 },
 "nbformat": 4,
 "nbformat_minor": 2
}
